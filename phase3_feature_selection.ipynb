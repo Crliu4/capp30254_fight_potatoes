{
 "cells": [
  {
   "cell_type": "code",
   "execution_count": 2,
   "id": "749bce6a",
   "metadata": {},
   "outputs": [],
   "source": [
    "import pandas as pd\n",
    "import numpy as np\n",
    "import datetime\n",
    "#from mlxtend.feature_selection import SequentialFeatureSelector\n",
    "from sklearn.feature_selection import mutual_info_classif\n",
    "from sklearn.linear_model import LogisticRegression\n",
    "from sklearn.linear_model import SGDRegressor\n",
    "from sklearn.linear_model import SGDClassifier\n",
    "from sklearn.metrics import mean_squared_error\n",
    "from skfeature.function.similarity_based import fisher_score\n",
    "import matplotlib.pyplot as plt\n",
    "import seaborn as sns\n",
    "from sklearn.metrics import accuracy_score \n",
    "%matplotlib inline"
   ]
  },
  {
   "cell_type": "code",
   "execution_count": 3,
   "id": "732c97c7",
   "metadata": {},
   "outputs": [],
   "source": [
    "BIO = pd.read_csv(\"phase3_data/bio.csv\")\n",
    "ZTS = pd.read_csv(\"phase3_data/zts.csv\")\n",
    "BIO = BIO.loc[:, 'Report Date': 's_diff']\n",
    "ZTS = ZTS.loc[:, 'Report Date': 's_diff']\n",
    "dates = ZTS['Report Date']"
   ]
  },
  {
   "cell_type": "code",
   "execution_count": 11,
   "id": "b74be028",
   "metadata": {},
   "outputs": [
    {
     "data": {
      "text/plain": [
       "datetime.datetime(2022, 2, 22, 0, 0)"
      ]
     },
     "execution_count": 11,
     "metadata": {},
     "output_type": "execute_result"
    }
   ],
   "source": []
  },
  {
   "cell_type": "code",
   "execution_count": 4,
   "id": "b8f99d80",
   "metadata": {},
   "outputs": [],
   "source": [
    "# function to select data given date window\n",
    "def window(start, end, df, date):\n",
    "    '''\n",
    "    Given a start and end date, return df with data only\n",
    "    from that period\n",
    "    \n",
    "    Inputs:\n",
    "        start/end: start and end dates\n",
    "            ex: start = '2022-01-23' ('YYYY-MM-DD')\n",
    "        df: pd dataframe\n",
    "        date: pd series with dates of all possible dates in data\n",
    "    \n",
    "    Returns: pd dataframe\n",
    "    '''\n",
    "    date = date[date.between(start, end, inclusive='both')]\n",
    "    # concat dates and dataframe\n",
    "    df = pd.concat([date, df], axis = 1, join=\"inner\")\n",
    "    return df"
   ]
  },
  {
   "cell_type": "code",
   "execution_count": 5,
   "id": "822bd196",
   "metadata": {},
   "outputs": [],
   "source": [
    "def feature_selection_FS(training_dataset, testing_dataset, bar):\n",
    "    \"\"\"\n",
    "    find the important feature using Fishers' score\n",
    "    \"\"\"\n",
    "    X = training_dataset.iloc[:, 3:]\n",
    "    Y_price = training_dataset['Stock price']\n",
    "    Y_dummy = training_dataset['Y_boolean']\n",
    "    date_train = training_dataset['Report Date']\n",
    "    date_test = testing_dataset['Report Date']\n",
    "    \n",
    "    ranks = fisher_score.fisher_score(X.to_numpy(), Y_dummy)\n",
    "    feat_importances = pd.Series(ranks, training_dataset.columns[3:])\n",
    "    feat_importances.plot(kind='barh', color =\"teal\")\n",
    "    plt.show()\n",
    "    \n",
    "    feat_selected = feat_importances.to_frame('importance')\n",
    "    # select importance > than bar\n",
    "    feat_selected = feat_selected[feat_selected['importance'] > bar]\n",
    "    select_feature_lst = list(feat_selected.index)\n",
    "    X1 = X[np.intersect1d(X.columns, select_feature_lst)]\n",
    "    Y_true_price = testing_dataset['Stock price']\n",
    "    Y_true = testing_dataset['Y_boolean']\n",
    "    testing_dataset = testing_dataset[np.intersect1d(testing_dataset.columns, select_feature_lst)]\n",
    "    \n",
    "    new_training_dataset = pd.merge(Y_price, Y_dummy, left_index=True, right_index=True)\n",
    "    new_training_dataset = pd.merge(new_training_dataset, X1, left_index=True, right_index=True)\n",
    "    new_training_dataset = pd.merge(date_train, new_training_dataset, left_index=True, right_index=True)\n",
    "    \n",
    "    new_testing_dataset = pd.merge(Y_true_price, Y_true, left_index=True, right_index=True)\n",
    "    new_testing_dataset = pd.merge(new_testing_dataset, testing_dataset,left_index=True, right_index=True)\n",
    "    new_testing_dataset = pd.merge(date_test, new_testing_dataset, left_index=True, right_index=True)\n",
    "    \n",
    "    return new_training_dataset, new_testing_dataset\n",
    "    \n",
    "    "
   ]
  },
  {
   "cell_type": "code",
   "execution_count": 6,
   "id": "c2c97e69",
   "metadata": {},
   "outputs": [],
   "source": [
    "def feature_selection_IG(training_dataset, testing_dataset, bar):\n",
    "    \"\"\"\n",
    "    find the important feature using IG method\n",
    "    \"\"\"\n",
    "\n",
    "    X = training_dataset.iloc[:, 3:]\n",
    "    Y_price = training_dataset['Stock price']\n",
    "    Y_dummy = training_dataset['Y_boolean']\n",
    "    date_train = training_dataset['Report Date']\n",
    "    date_test = testing_dataset['Report Date']\n",
    "    \n",
    "    importances = mutual_info_classif(X, Y_dummy, random_state=1241)\n",
    "    feat_importances = pd.Series(importances, training_dataset.columns[3:])\n",
    "    feat_importances.plot(kind='barh', color =\"teal\")\n",
    "    plt.show()\n",
    "    \n",
    "    feat_selected = feat_importances.to_frame('importance')\n",
    "    # select importance > than bar\n",
    "    feat_selected = feat_selected[feat_selected['importance'] > bar]\n",
    "    select_feature_lst = list(feat_selected.index)\n",
    "    X1 = X[np.intersect1d(X.columns, select_feature_lst)]\n",
    "    Y_true_price = testing_dataset['Stock price']\n",
    "    Y_true = testing_dataset['Y_boolean']\n",
    "    testing_dataset = testing_dataset[np.intersect1d(testing_dataset.columns, select_feature_lst)]\n",
    "    \n",
    "    new_training_dataset = pd.merge(Y_price, Y_dummy, left_index=True, right_index=True)\n",
    "    new_training_dataset = pd.merge(new_training_dataset, X1, left_index=True, right_index=True)\n",
    "    new_training_dataset = pd.merge(date_train, new_training_dataset, left_index=True, right_index=True)\n",
    "    \n",
    "    new_testing_dataset = pd.merge(Y_true_price, Y_true, left_index=True, right_index=True)\n",
    "    new_testing_dataset = pd.merge(new_testing_dataset, testing_dataset,left_index=True, right_index=True)\n",
    "    new_testing_dataset = pd.merge(date_test, new_testing_dataset, left_index=True, right_index=True)\n",
    "    \n",
    "    return new_training_dataset, new_testing_dataset\n",
    "    "
   ]
  },
  {
   "cell_type": "code",
   "execution_count": 7,
   "id": "02c3a67f",
   "metadata": {},
   "outputs": [],
   "source": [
    "def test_feature_select(training_dataset, validate_dataset):\n",
    "    \"\"\"\n",
    "    check the performance of the current selected: use only training dataset accuracy \n",
    "    \"\"\"\n",
    "    # run baseline logit\n",
    "    logit = LogisticRegression(solver = 'lbfgs', random_state=1241)\n",
    "    X = training_dataset.iloc[:, 3:]\n",
    "    Y_dummy = training_dataset['Y_boolean']\n",
    "    logit.fit(X, Y_dummy)\n",
    "    Y_dummy_validate = validate_dataset['Y_boolean']\n",
    "    X_validate = validate_dataset.iloc[:, 3:]\n",
    "    Y_pred = logit.predict(X_validate)\n",
    "    # pred = lr.predict(testing_dataset)\n",
    "#     score = logit.score(testing_dataset, Y_true)\n",
    "    \n",
    "    score = accuracy_score(Y_dummy_validate, Y_pred)\n",
    "    return score"
   ]
  },
  {
   "cell_type": "code",
   "execution_count": 8,
   "id": "b76f72bd",
   "metadata": {},
   "outputs": [],
   "source": [
    "# collect all date\n",
    "date_starts = []\n",
    "date = datetime.datetime(2020, 3, 2)\n",
    "date_starts.append(date)\n",
    "\n",
    "for idx in range(722):\n",
    "    date += datetime.timedelta(days=1)\n",
    "    date_starts.append(date)\n"
   ]
  },
  {
   "cell_type": "code",
   "execution_count": 9,
   "id": "ec4392b5",
   "metadata": {},
   "outputs": [
    {
     "ename": "AttributeError",
     "evalue": "'datetime.datetime' object has no attribute 'between'",
     "output_type": "error",
     "traceback": [
      "\u001b[0;31m---------------------------------------------------------------------------\u001b[0m",
      "\u001b[0;31mAttributeError\u001b[0m                            Traceback (most recent call last)",
      "\u001b[1;32m/Users/carolynliu/capp30254_fight_potatoes/phase3_feature_selection.ipynb Cell 8'\u001b[0m in \u001b[0;36m<cell line: 3>\u001b[0;34m()\u001b[0m\n\u001b[1;32m     <a href='vscode-notebook-cell:/Users/carolynliu/capp30254_fight_potatoes/phase3_feature_selection.ipynb#ch0000007?line=13'>14</a>\u001b[0m test_date_start \u001b[39m=\u001b[39m \u001b[39mstr\u001b[39m(test_date_start)[:\u001b[39m10\u001b[39m]\n\u001b[1;32m     <a href='vscode-notebook-cell:/Users/carolynliu/capp30254_fight_potatoes/phase3_feature_selection.ipynb#ch0000007?line=14'>15</a>\u001b[0m test_date_end \u001b[39m=\u001b[39m \u001b[39mstr\u001b[39m(test_date_end)[:\u001b[39m10\u001b[39m]\n\u001b[0;32m---> <a href='vscode-notebook-cell:/Users/carolynliu/capp30254_fight_potatoes/phase3_feature_selection.ipynb#ch0000007?line=16'>17</a>\u001b[0m train_data \u001b[39m=\u001b[39m window(train_date_start, train_date_end, BIO, date)\n\u001b[1;32m     <a href='vscode-notebook-cell:/Users/carolynliu/capp30254_fight_potatoes/phase3_feature_selection.ipynb#ch0000007?line=17'>18</a>\u001b[0m validate_data \u001b[39m=\u001b[39m window(validate_date_start, validate_date_end, BIO, date)\n\u001b[1;32m     <a href='vscode-notebook-cell:/Users/carolynliu/capp30254_fight_potatoes/phase3_feature_selection.ipynb#ch0000007?line=18'>19</a>\u001b[0m test_data \u001b[39m=\u001b[39m window(test_date_start, test_date_end, BIO, date)\n",
      "\u001b[1;32m/Users/carolynliu/capp30254_fight_potatoes/phase3_feature_selection.ipynb Cell 3'\u001b[0m in \u001b[0;36mwindow\u001b[0;34m(start, end, df, date)\u001b[0m\n\u001b[1;32m      <a href='vscode-notebook-cell:/Users/carolynliu/capp30254_fight_potatoes/phase3_feature_selection.ipynb#ch0000002?line=1'>2</a>\u001b[0m \u001b[39mdef\u001b[39;00m \u001b[39mwindow\u001b[39m(start, end, df, date):\n\u001b[1;32m      <a href='vscode-notebook-cell:/Users/carolynliu/capp30254_fight_potatoes/phase3_feature_selection.ipynb#ch0000002?line=2'>3</a>\u001b[0m     \u001b[39m'''\u001b[39;00m\n\u001b[1;32m      <a href='vscode-notebook-cell:/Users/carolynliu/capp30254_fight_potatoes/phase3_feature_selection.ipynb#ch0000002?line=3'>4</a>\u001b[0m \u001b[39m    Given a start and end date, return df with data only\u001b[39;00m\n\u001b[1;32m      <a href='vscode-notebook-cell:/Users/carolynliu/capp30254_fight_potatoes/phase3_feature_selection.ipynb#ch0000002?line=4'>5</a>\u001b[0m \u001b[39m    from that period\u001b[39;00m\n\u001b[0;32m   (...)\u001b[0m\n\u001b[1;32m     <a href='vscode-notebook-cell:/Users/carolynliu/capp30254_fight_potatoes/phase3_feature_selection.ipynb#ch0000002?line=12'>13</a>\u001b[0m \u001b[39m    Returns: pd dataframe\u001b[39;00m\n\u001b[1;32m     <a href='vscode-notebook-cell:/Users/carolynliu/capp30254_fight_potatoes/phase3_feature_selection.ipynb#ch0000002?line=13'>14</a>\u001b[0m \u001b[39m    '''\u001b[39;00m\n\u001b[0;32m---> <a href='vscode-notebook-cell:/Users/carolynliu/capp30254_fight_potatoes/phase3_feature_selection.ipynb#ch0000002?line=14'>15</a>\u001b[0m     date \u001b[39m=\u001b[39m date[date\u001b[39m.\u001b[39;49mbetween(start, end, inclusive\u001b[39m=\u001b[39m\u001b[39m'\u001b[39m\u001b[39mboth\u001b[39m\u001b[39m'\u001b[39m)]\n\u001b[1;32m     <a href='vscode-notebook-cell:/Users/carolynliu/capp30254_fight_potatoes/phase3_feature_selection.ipynb#ch0000002?line=15'>16</a>\u001b[0m     \u001b[39m# concat dates and dataframe\u001b[39;00m\n\u001b[1;32m     <a href='vscode-notebook-cell:/Users/carolynliu/capp30254_fight_potatoes/phase3_feature_selection.ipynb#ch0000002?line=16'>17</a>\u001b[0m     df \u001b[39m=\u001b[39m pd\u001b[39m.\u001b[39mconcat([date, df], axis \u001b[39m=\u001b[39m \u001b[39m1\u001b[39m, join\u001b[39m=\u001b[39m\u001b[39m\"\u001b[39m\u001b[39minner\u001b[39m\u001b[39m\"\u001b[39m)\n",
      "\u001b[0;31mAttributeError\u001b[0m: 'datetime.datetime' object has no attribute 'between'"
     ]
    }
   ],
   "source": [
    "# currently using BIO as example\n",
    "# loop for feature selection and modeling\n",
    "for train_date_start in date_starts:\n",
    "    train_date_end = train_date_start + datetime.timedelta(days=90)\n",
    "    validate_date_start = train_date_end + datetime.timedelta(days=1)\n",
    "    validate_date_end = validate_date_start + datetime.timedelta(days=30)\n",
    "    test_date_start = validate_date_end + datetime.timedelta(days=1)\n",
    "    test_date_end = test_date_start + datetime.timedelta(days=30)\n",
    "    \n",
    "    train_date_start = str(train_date_start)[:10]\n",
    "    train_date_end = str(train_date_end)[:10]\n",
    "    validate_date_start = str(validate_date_start)[:10]\n",
    "    validate_date_end = str(validate_date_end)[:10]\n",
    "    test_date_start = str(test_date_start)[:10]\n",
    "    test_date_end = str(test_date_end)[:10]\n",
    "    \n",
    "    train_data = window(train_date_start, train_date_end, BIO, date)\n",
    "    validate_data = window(validate_date_start, validate_date_end, BIO, date)\n",
    "    test_data = window(test_date_start, test_date_end, BIO, date)\n",
    "    \n",
    "    bars_FS = [0,1,2,3,4,5,6,7,8,9,10]\n",
    "    bars_IG = [0,0.001,0.005,0.01,0.015,0.02,0.025, 0.03,0.035,0.04,0.045,0.05,0.055,0.06,0.065,0.07, 0.075, 0.8,0.085, 0.9,0.095,0.1]\n",
    "    best_accuracy = 0\n",
    "    best_bar = []\n",
    "    \n",
    "    for bar_FS in bars_FS:\n",
    "        for bar_IG in bars_IG:\n",
    "            try:\n",
    "                train_BIO_selected, validate_BIO_selected = feature_selection_FS(train_data, validate_data, bar_FS)\n",
    "                train_BIO_selected, validate_BIO_selected = feature_selection_IG(train_BIO_selected, validate_BIO_selected, bar_IG)\n",
    "            # validate_testing:\n",
    "                score = test_feature_select(training_dataset, validate_dataset)\n",
    "                if score > best_accuracy:\n",
    "                    best_accuracy = score\n",
    "                    best_bar = [bar_FS, bar_IG]\n",
    "            except:\n",
    "                continue\n",
    "   "
   ]
  }
 ],
 "metadata": {
  "interpreter": {
   "hash": "b0fa6594d8f4cbf19f97940f81e996739fb7646882a419484c72d19e05852a7e"
  },
  "kernelspec": {
   "display_name": "Python 3.9.12 64-bit",
   "language": "python",
   "name": "python3"
  },
  "language_info": {
   "codemirror_mode": {
    "name": "ipython",
    "version": 3
   },
   "file_extension": ".py",
   "mimetype": "text/x-python",
   "name": "python",
   "nbconvert_exporter": "python",
   "pygments_lexer": "ipython3",
   "version": "3.9.12"
  }
 },
 "nbformat": 4,
 "nbformat_minor": 5
}
