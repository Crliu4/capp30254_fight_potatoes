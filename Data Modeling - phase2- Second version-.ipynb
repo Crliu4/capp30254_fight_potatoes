{
 "cells": [
  {
   "cell_type": "markdown",
   "id": "44372404",
   "metadata": {},
   "source": [
    "# Model Selection"
   ]
  },
  {
   "cell_type": "code",
   "execution_count": 36,
   "id": "fb826037",
   "metadata": {
    "scrolled": false
   },
   "outputs": [],
   "source": [
    "import pandas as pd\n",
    "import numpy as np\n",
    "import matplotlib.pyplot as plt\n",
    "import seaborn as sns\n",
    "\n",
    "# Import the linear models from scikit-learn\n",
    "from sklearn import linear_model\n",
    "from sklearn import metrics\n",
    "from sklearn.preprocessing import StandardScaler\n",
    "from sklearn.model_selection import train_test_split\n",
    "from sklearn.pipeline import Pipeline\n",
    "from sklearn.linear_model import LogisticRegression, LogisticRegressionCV\n",
    "from sklearn.linear_model import SGDClassifier\n",
    "from sklearn.pipeline import make_pipeline\n",
    "from sklearn.preprocessing import RobustScaler\n",
    "from sklearn.svm import SVC\n",
    "from sklearn.neighbors import KNeighborsClassifier\n",
    "from sklearn.model_selection import KFold, cross_validate, train_test_split\n",
    "from sklearn.ensemble import RandomForestClassifier,GradientBoostingClassifier,RandomForestRegressor\n",
    "\n",
    "%matplotlib inline"
   ]
  },
  {
   "cell_type": "markdown",
   "id": "37d16690",
   "metadata": {},
   "source": [
    "## BIO"
   ]
  },
  {
   "cell_type": "code",
   "execution_count": 37,
   "id": "9943569c",
   "metadata": {
    "scrolled": false
   },
   "outputs": [
    {
     "name": "stdout",
     "output_type": "stream",
     "text": [
      "Train: 2020-03-02 to 2020-12-31\n",
      "Shape (305, 28)\n",
      "Test: 2021-01-01 to 2021-06-30\n",
      "Shape (181, 28)\n"
     ]
    }
   ],
   "source": [
    "##Load the data \n",
    "BIO_train_0 = pd.read_csv(\"/Users/siwenchen/Desktop/phase2/window_data/bio_train_group0_2020-03-02_2020-12-31.csv\",index_col=[0])\n",
    "print('Train:', BIO_train_0['Report Date'].iloc[0], 'to',BIO_train_0['Report Date'].iloc[-1])\n",
    "print('Shape', BIO_train_0.shape)\n",
    "\n",
    "\n",
    "BIO_test_0 = pd.read_csv(\"/Users/siwenchen/Desktop/phase2/window_data/bio_test_group0_2021-01-01_2021-06-30.csv\",index_col=[0])\n",
    "print('Test:', BIO_test_0['Report Date'].min(), 'to',BIO_test_0['Report Date'].max())\n",
    "print('Shape', BIO_test_0.shape)"
   ]
  },
  {
   "cell_type": "code",
   "execution_count": 38,
   "id": "a15a3ce9",
   "metadata": {
    "scrolled": false
   },
   "outputs": [],
   "source": [
    "BIO_train_0['Return'] = BIO_train_0['Stock price'].pct_change()\n",
    "BIO_train_0['Next Day Return'] = BIO_train_0['Return'].shift(-1)\n",
    "BIO_train_0['Next Day Y_boolean'] = BIO_train_0['Y_boolean'].shift(-1)\n",
    "BIO_train_0 = BIO_train_0.iloc[:-1]\n",
    "\n",
    "BIO_test_0['Return'] = BIO_test_0['Stock price'].pct_change()\n",
    "BIO_test_0['Next Day Return'] = BIO_test_0['Return'].shift(-1)\n",
    "BIO_test_0['Next Day Y_boolean'] = BIO_test_0['Y_boolean'].shift(-1)\n",
    "BIO_test_0 = BIO_test_0.iloc[:-1]"
   ]
  },
  {
   "cell_type": "code",
   "execution_count": 39,
   "id": "49ec98e3",
   "metadata": {
    "scrolled": false
   },
   "outputs": [
    {
     "name": "stdout",
     "output_type": "stream",
     "text": [
      "training score 0.3881578947368421\n",
      "testing score 0.38333333333333336\n"
     ]
    }
   ],
   "source": [
    "# Random Forest\n",
    "from sklearn.ensemble import RandomForestClassifier\n",
    "\n",
    "BIO_train_0_features = BIO_train_0.iloc[:,4:7]\n",
    "BIO_train_0_target =BIO_train_0[\"Next Day Y_boolean\"]\n",
    "BIO_test_0_features = BIO_test_0.iloc[:,4:7]\n",
    "BIO_test_0_target =BIO_test_0[\"Next Day Y_boolean\"]\n",
    "\n",
    "rf = RandomForestClassifier(random_state=0, \n",
    "                            n_jobs=-1, \n",
    "                            n_estimators=100,\n",
    "                            class_weight='balanced'\n",
    "                           )\n",
    "model = rf.fit(BIO_train_0_features,BIO_train_0_target)\n",
    "print(\"training score\" , model.score(BIO_train_0_features,BIO_train_0_target))\n",
    "print(\"testing score\" , model.score(BIO_test_0_features,BIO_test_0_target))"
   ]
  },
  {
   "cell_type": "code",
   "execution_count": 40,
   "id": "4ae36b9a",
   "metadata": {},
   "outputs": [],
   "source": [
    "def train(n,train_features,train_target,test_features,test_target):\n",
    "    rf = RandomForestClassifier(random_state= 0, \n",
    "                            n_jobs=-1, \n",
    "                            n_estimators=n,\n",
    "                            class_weight='balanced'\n",
    "                           )\n",
    "    model = rf.fit(train_features,train_target)\n",
    "    training_score =  model.score(train_features,train_target)\n",
    "    testing_score = model.score(test_features,test_target)\n",
    "    return training_score,testing_score\n",
    "    "
   ]
  },
  {
   "cell_type": "code",
   "execution_count": 41,
   "id": "551a1d5f",
   "metadata": {
    "scrolled": true
   },
   "outputs": [
    {
     "data": {
      "text/plain": [
       "(0.3881578947368421, 0.38333333333333336)"
      ]
     },
     "execution_count": 41,
     "metadata": {},
     "output_type": "execute_result"
    }
   ],
   "source": [
    " train(100,BIO_train_0_features,BIO_train_0_target,BIO_test_0_features,BIO_test_0_target)"
   ]
  },
  {
   "cell_type": "code",
   "execution_count": 42,
   "id": "7793efc3",
   "metadata": {},
   "outputs": [
    {
     "data": {
      "text/plain": [
       "<matplotlib.legend.Legend at 0x7fa0605080d0>"
      ]
     },
     "execution_count": 42,
     "metadata": {},
     "output_type": "execute_result"
    },
    {
     "data": {
      "image/png": "[encoded data removed]",
      "text/plain": [
       "<Figure size 432x288 with 1 Axes>"
      ]
     },
     "metadata": {
      "needs_background": "light"
     },
     "output_type": "display_data"
    }
   ],
   "source": [
    "train_results = []\n",
    "test_results = []\n",
    "\n",
    "for n_estimators in range(1,100):\n",
    "    train_acc, test_acc = train(n_estimators,BIO_train_0_features,BIO_train_0_target,BIO_test_0_features,BIO_test_0_target)\n",
    "    train_results.append(train_acc)\n",
    "    test_results.append(test_acc)\n",
    "\n",
    "plt.plot(range(1,100),train_results,color=\"steelblue\", label= \"train_acc\")\n",
    "plt.plot(range(1,100),test_results,color=\"lightblue\", label=\"test_acc\")\n",
    "plt.xlabel(\"n estimator\", fontsize=16)\n",
    "plt.ylabel(\"accuracy\", fontsize=16)\n",
    "plt.legend()\n",
    "    "
   ]
  },
  {
   "cell_type": "code",
   "execution_count": 43,
   "id": "b349e459",
   "metadata": {},
   "outputs": [
    {
     "data": {
      "text/plain": [
       "<matplotlib.legend.Legend at 0x7fa08a120c10>"
      ]
     },
     "execution_count": 43,
     "metadata": {},
     "output_type": "execute_result"
    },
    {
     "data": {
      "image/png": "[encoded data removed]",
      "text/plain": [
       "<Figure size 432x288 with 1 Axes>"
      ]
     },
     "metadata": {
      "needs_background": "light"
     },
     "output_type": "display_data"
    }
   ],
   "source": [
    "train_results = []\n",
    "test_results = []\n",
    "\n",
    "for n_estimators in range(1,10):\n",
    "    train_acc, test_acc = train(n_estimators,BIO_train_0_features,BIO_train_0_target,BIO_test_0_features,BIO_test_0_target)\n",
    "    train_results.append(train_acc)\n",
    "    test_results.append(test_acc)\n",
    "\n",
    "plt.plot(range(1,10),train_results,color=\"steelblue\", label= \"train_acc\")\n",
    "plt.plot(range(1,10),test_results,color=\"lightblue\", label=\"test_acc\")\n",
    "plt.xlabel(\"n estimator\", fontsize=16)\n",
    "plt.ylabel(\"accuracy\", fontsize=16)\n",
    "plt.legend()\n",
    "    \n",
    "    \n"
   ]
  },
  {
   "cell_type": "code",
   "execution_count": 44,
   "id": "45ab1651",
   "metadata": {
    "scrolled": false
   },
   "outputs": [
    {
     "name": "stdout",
     "output_type": "stream",
     "text": [
      "Train: 2020-06-01 to 2021-03-31\n",
      "Shape (304, 28)\n",
      "Test: 2021-04-01 to 2021-09-30\n",
      "Shape (183, 28)\n"
     ]
    }
   ],
   "source": [
    "BIO_train_1 = pd.read_csv(\"/Users/siwenchen/Desktop/phase2/window_data/bio_train_group1_2020-06-01_2021-03-31.csv\",index_col=[0])\n",
    "print('Train:', BIO_train_1['Report Date'].min(), 'to',BIO_train_1['Report Date'].max())\n",
    "print('Shape', BIO_train_1.shape)\n",
    "BIO_test_1 = pd.read_csv(\"/Users/siwenchen/Desktop/phase2/window_data/bio_test_group1_2021-04-01_2021-09-30.csv\",index_col=[0])\n",
    "print('Test:', BIO_test_1['Report Date'].min(), 'to',BIO_test_1['Report Date'].max())\n",
    "print('Shape', BIO_test_1.shape)"
   ]
  },
  {
   "cell_type": "code",
   "execution_count": 45,
   "id": "a8d30114",
   "metadata": {
    "scrolled": false
   },
   "outputs": [
    {
     "name": "stdout",
     "output_type": "stream",
     "text": [
      "training score 0.3684210526315789\n",
      "testing score 0.32786885245901637\n"
     ]
    }
   ],
   "source": [
    "BIO_train_1_features = BIO_train_1.iloc[:,7:18]\n",
    "BIO_train_1_target =BIO_train_1[\"Y_boolean\"]\n",
    "BIO_test_1_features = BIO_test_1.iloc[:,7:18]\n",
    "BIO_test_1_target =BIO_test_1[\"Y_boolean\"]\n",
    "\n",
    "rf = RandomForestClassifier(random_state=0, \n",
    "                            n_jobs=-1, \n",
    "                            n_estimators=100,\n",
    "                            class_weight='balanced'\n",
    "                           )\n",
    "model = rf.fit(BIO_train_1_features,BIO_train_1_target)\n",
    "print(\"training score\" , model.score(BIO_train_1_features,BIO_train_1_target))\n",
    "print(\"testing score\" , model.score(BIO_test_1_features,BIO_test_1_target))"
   ]
  },
  {
   "cell_type": "code",
   "execution_count": 46,
   "id": "2c5b0ce2",
   "metadata": {},
   "outputs": [
    {
     "data": {
      "text/plain": [
       "<matplotlib.legend.Legend at 0x7fa0604a05e0>"
      ]
     },
     "execution_count": 46,
     "metadata": {},
     "output_type": "execute_result"
    },
    {
     "data": {
      "image/png": "[encoded data removed]",
      "text/plain": [
       "<Figure size 432x288 with 1 Axes>"
      ]
     },
     "metadata": {
      "needs_background": "light"
     },
     "output_type": "display_data"
    }
   ],
   "source": [
    "train_results = []\n",
    "test_results = []\n",
    "\n",
    "for n_estimators in range(1,10):\n",
    "    train_acc, test_acc = train(n_estimators,BIO_train_1_features,BIO_train_1_target,BIO_test_1_features,BIO_test_1_target)\n",
    "    train_results.append(train_acc)\n",
    "    test_results.append(test_acc)\n",
    "\n",
    "plt.plot(range(1,10),train_results,color=\"steelblue\", label= \"train_acc\")\n",
    "plt.plot(range(1,10),test_results,color=\"lightblue\", label=\"test_acc\")\n",
    "plt.xlabel(\"n estimator\", fontsize=16)\n",
    "plt.ylabel(\"accuracy\", fontsize=16)\n",
    "plt.legend()\n",
    "    "
   ]
  },
  {
   "cell_type": "code",
   "execution_count": 50,
   "id": "510068d1",
   "metadata": {
    "scrolled": false
   },
   "outputs": [
    {
     "name": "stdout",
     "output_type": "stream",
     "text": [
      "Train: 2020-09-01 to 2021-06-30\n",
      "Shape (303, 28)\n",
      "Test: 2021-07-01 to 2021-12-31\n",
      "Shape (184, 28)\n"
     ]
    }
   ],
   "source": [
    "BIO_train_2 = pd.read_csv(\"/Users/siwenchen/Desktop/phase2/window_data/bio_train_group2_2020-09-01_2021-06-30.csv\",index_col=[0])\n",
    "print('Train:', BIO_train_2['Report Date'].min(), 'to',BIO_train_2['Report Date'].max())\n",
    "print('Shape', BIO_train_2.shape)\n",
    "BIO_test_2 = pd.read_csv(\"/Users/siwenchen/Desktop/phase2/window_data/bio_test_group2_2021-07-01_2021-12-31.csv\",index_col=[0])\n",
    "print('Test:', BIO_test_2['Report Date'].min(), 'to',BIO_test_2['Report Date'].max())\n",
    "print('Shape', BIO_test_2.shape)"
   ]
  },
  {
   "cell_type": "code",
   "execution_count": 51,
   "id": "b8c15317",
   "metadata": {
    "scrolled": false
   },
   "outputs": [
    {
     "name": "stdout",
     "output_type": "stream",
     "text": [
      "training score 0.45874587458745875\n",
      "testing score 0.34782608695652173\n"
     ]
    }
   ],
   "source": [
    "BIO_train_2_features = BIO_train_2.iloc[:,3:13]\n",
    "BIO_train_2_target =BIO_train_2[\"Y_boolean\"]\n",
    "BIO_test_2_features = BIO_test_2.iloc[:,3:13]\n",
    "BIO_test_2_target =BIO_test_2[\"Y_boolean\"]\n",
    "\n",
    "model = rf.fit(BIO_train_2_features,BIO_train_2_target)\n",
    "print(\"training score\" , model.score(BIO_train_2_features,BIO_train_2_target))\n",
    "print(\"testing score\" , model.score(BIO_test_2_features,BIO_test_2_target))"
   ]
  },
  {
   "cell_type": "code",
   "execution_count": 53,
   "id": "cfed8a74",
   "metadata": {},
   "outputs": [
    {
     "data": {
      "text/plain": [
       "<matplotlib.legend.Legend at 0x7fa07aa6f880>"
      ]
     },
     "execution_count": 53,
     "metadata": {},
     "output_type": "execute_result"
    },
    {
     "data": {
      "image/png": "[encoded data removed]",
      "text/plain": [
       "<Figure size 432x288 with 1 Axes>"
      ]
     },
     "metadata": {
      "needs_background": "light"
     },
     "output_type": "display_data"
    }
   ],
   "source": [
    "train_results = []\n",
    "test_results = []\n",
    "\n",
    "for n_estimators in range(1,100):\n",
    "    train_acc, test_acc = train(n_estimators,BIO_train_2_features,BIO_train_2_target,BIO_test_2_features,BIO_test_2_target)\n",
    "    train_results.append(train_acc)\n",
    "    test_results.append(test_acc)\n",
    "\n",
    "plt.plot(range(1,100),train_results,color=\"steelblue\", label= \"train_acc\")\n",
    "plt.plot(range(1,100),test_results,color=\"lightblue\", label=\"test_acc\")\n",
    "plt.xlabel(\"n estimator\", fontsize=16)\n",
    "plt.ylabel(\"accuracy\", fontsize=16)\n",
    "plt.legend()\n",
    "    "
   ]
  },
  {
   "cell_type": "code",
   "execution_count": 54,
   "id": "2c2f5a67",
   "metadata": {
    "scrolled": false
   },
   "outputs": [
    {
     "name": "stdout",
     "output_type": "stream",
     "text": [
      "Train: 2021-01-01 to 2021-09-30\n",
      "Shape (273, 28)\n",
      "Test: 2021-10-01 to 2022-04-24\n",
      "Shape (206, 28)\n"
     ]
    }
   ],
   "source": [
    "BIO_train_3 = pd.read_csv(\"/Users/siwenchen/Desktop/phase2/window_data/bio_train_group3_2021-01-01_2021-09-30.csv\",index_col=[0])\n",
    "print('Train:', BIO_train_3['Report Date'].min(), 'to',BIO_train_3['Report Date'].max())\n",
    "print('Shape', BIO_train_3.shape)\n",
    "BIO_test_3 = pd.read_csv(\"/Users/siwenchen/Desktop/phase2/window_data/bio_test_group3_2021-10-01_2022-04-24.csv\",index_col=[0])\n",
    "print('Test:', BIO_test_3['Report Date'].min(), 'to',BIO_test_3['Report Date'].max())\n",
    "print('Shape', BIO_test_3.shape)"
   ]
  },
  {
   "cell_type": "code",
   "execution_count": 55,
   "id": "62a21e7a",
   "metadata": {
    "scrolled": false
   },
   "outputs": [
    {
     "name": "stdout",
     "output_type": "stream",
     "text": [
      "training score 0.45787545787545786\n",
      "testing score 0.4029126213592233\n"
     ]
    }
   ],
   "source": [
    "BIO_train_3_features = BIO_train_3.iloc[:,3:18]\n",
    "BIO_train_3_target =BIO_train_3[\"Y_boolean\"]\n",
    "BIO_test_3_features = BIO_test_3.iloc[:,3:18]\n",
    "BIO_test_3_target =BIO_test_3[\"Y_boolean\"]\n",
    "\n",
    "model = rf.fit(BIO_train_3_features,BIO_train_3_target)\n",
    "print(\"training score\" , model.score(BIO_train_3_features,BIO_train_3_target))\n",
    "print(\"testing score\" , model.score(BIO_test_3_features,BIO_test_3_target))"
   ]
  },
  {
   "cell_type": "code",
   "execution_count": 58,
   "id": "c75493df",
   "metadata": {},
   "outputs": [
    {
     "data": {
      "text/plain": [
       "<matplotlib.legend.Legend at 0x7fa058119df0>"
      ]
     },
     "execution_count": 58,
     "metadata": {},
     "output_type": "execute_result"
    },
    {
     "data": {
      "image/png": "[encoded data removed]",
      "text/plain": [
       "<Figure size 432x288 with 1 Axes>"
      ]
     },
     "metadata": {
      "needs_background": "light"
     },
     "output_type": "display_data"
    }
   ],
   "source": [
    "train_results = []\n",
    "test_results = []\n",
    "\n",
    "for n_estimators in range(1,100):\n",
    "    train_acc, test_acc = train(n_estimators,BIO_train_3_features,BIO_train_3_target,BIO_test_3_features,BIO_test_3_target)\n",
    "    train_results.append(train_acc)\n",
    "    test_results.append(test_acc)\n",
    "\n",
    "plt.plot(range(1,100),train_results,color=\"steelblue\", label= \"train_acc\")\n",
    "plt.plot(range(1,100),test_results,color=\"lightblue\", label=\"test_acc\")\n",
    "plt.xlabel(\"n estimator\", fontsize=16)\n",
    "plt.ylabel(\"accuracy\", fontsize=16)\n",
    "plt.legend()"
   ]
  },
  {
   "cell_type": "code",
   "execution_count": 56,
   "id": "f86b43dd",
   "metadata": {
    "scrolled": false
   },
   "outputs": [
    {
     "name": "stdout",
     "output_type": "stream",
     "text": [
      "Train: 2021-03-01 to 2021-12-31\n",
      "Shape (306, 28)\n",
      "Test: 2022-01-01 to 2022-04-24\n",
      "Shape (114, 28)\n"
     ]
    }
   ],
   "source": [
    "BIO_train_4 = pd.read_csv(\"/Users/siwenchen/Desktop/phase2/window_data/bio_train_group4_2021-03-01_2021-12-31.csv\",index_col=[0])\n",
    "print('Train:', BIO_train_4['Report Date'].min(), 'to',BIO_train_4['Report Date'].max())\n",
    "print('Shape', BIO_train_4.shape)\n",
    "BIO_test_4 = pd.read_csv(\"/Users/siwenchen/Desktop/phase2/window_data/bio_test_group4_2022-01-01_2022-04-24.csv\",index_col=[0])\n",
    "print('Test:', BIO_test_4['Report Date'].min(), 'to',BIO_test_4['Report Date'].max())\n",
    "print('Shape', BIO_test_4.shape)"
   ]
  },
  {
   "cell_type": "code",
   "execution_count": 57,
   "id": "21a0a75b",
   "metadata": {
    "scrolled": false
   },
   "outputs": [
    {
     "name": "stdout",
     "output_type": "stream",
     "text": [
      "training score 0.40522875816993464\n",
      "testing score 0.47368421052631576\n"
     ]
    }
   ],
   "source": [
    "BIO_train_4_features = BIO_train_4.iloc[:,3:10]\n",
    "BIO_train_4_target =BIO_train_4[\"Y_boolean\"]\n",
    "BIO_test_4_features = BIO_test_4.iloc[:,3:10]\n",
    "BIO_test_4_target =BIO_test_4[\"Y_boolean\"]\n",
    "\n",
    "model = rf.fit(BIO_train_4_features,BIO_train_4_target)\n",
    "print(\"training score\" , model.score(BIO_train_4_features,BIO_train_4_target))\n",
    "print(\"testing score\" , model.score(BIO_test_4_features,BIO_test_4_target))"
   ]
  },
  {
   "cell_type": "code",
   "execution_count": 59,
   "id": "f3385a63",
   "metadata": {},
   "outputs": [
    {
     "data": {
      "text/plain": [
       "<matplotlib.legend.Legend at 0x7fa0a8ea02b0>"
      ]
     },
     "execution_count": 59,
     "metadata": {},
     "output_type": "execute_result"
    },
    {
     "data": {
      "image/png": "[encoded data removed]",
      "text/plain": [
       "<Figure size 432x288 with 1 Axes>"
      ]
     },
     "metadata": {
      "needs_background": "light"
     },
     "output_type": "display_data"
    }
   ],
   "source": [
    "train_results = []\n",
    "test_results = []\n",
    "\n",
    "for n_estimators in range(1,100):\n",
    "    train_acc, test_acc = train(n_estimators,BIO_train_4_features,BIO_train_4_target,BIO_test_4_features,BIO_test_4_target)\n",
    "    train_results.append(train_acc)\n",
    "    test_results.append(test_acc)\n",
    "\n",
    "plt.plot(range(1,100),train_results,color=\"steelblue\", label= \"train_acc\")\n",
    "plt.plot(range(1,100),test_results,color=\"lightblue\", label=\"test_acc\")\n",
    "plt.xlabel(\"n estimator\", fontsize=16)\n",
    "plt.ylabel(\"accuracy\", fontsize=16)\n",
    "plt.legend()"
   ]
  },
  {
   "cell_type": "markdown",
   "id": "c2842762",
   "metadata": {},
   "source": [
    "## Logistic Regression "
   ]
  },
  {
   "cell_type": "code",
   "execution_count": 1,
   "id": "c9cd510d",
   "metadata": {},
   "outputs": [
    {
     "ename": "NameError",
     "evalue": "name 'make_pipeline' is not defined",
     "output_type": "error",
     "traceback": [
      "\u001b[0;31m---------------------------------------------------------------------------\u001b[0m",
      "\u001b[0;31mNameError\u001b[0m                                 Traceback (most recent call last)",
      "\u001b[0;32m/var/folders/4g/kc9m36611y51fyk810hyqm6m0000gn/T/ipykernel_59232/998925951.py\u001b[0m in \u001b[0;36m<module>\u001b[0;34m\u001b[0m\n\u001b[0;32m----> 1\u001b[0;31m \u001b[0mlog_l2\u001b[0m \u001b[0;34m=\u001b[0m \u001b[0mmake_pipeline\u001b[0m\u001b[0;34m(\u001b[0m\u001b[0mLogisticRegression\u001b[0m\u001b[0;34m(\u001b[0m\u001b[0mmax_iter\u001b[0m\u001b[0;34m=\u001b[0m\u001b[0;36m1000\u001b[0m\u001b[0;34m,\u001b[0m \u001b[0mpenalty\u001b[0m\u001b[0;34m=\u001b[0m\u001b[0;34m'l2'\u001b[0m\u001b[0;34m,\u001b[0m \u001b[0mtol\u001b[0m\u001b[0;34m=\u001b[0m\u001b[0;36m0.001\u001b[0m\u001b[0;34m,\u001b[0m \u001b[0msolver\u001b[0m\u001b[0;34m=\u001b[0m\u001b[0;34m'newton-cg'\u001b[0m\u001b[0;34m)\u001b[0m\u001b[0;34m)\u001b[0m\u001b[0;34m\u001b[0m\u001b[0;34m\u001b[0m\u001b[0m\n\u001b[0m\u001b[1;32m      2\u001b[0m \u001b[0mmodel\u001b[0m \u001b[0;34m=\u001b[0m \u001b[0mlog_l2\u001b[0m\u001b[0;34m.\u001b[0m\u001b[0mfit\u001b[0m\u001b[0;34m(\u001b[0m\u001b[0mBIO_train_0_features\u001b[0m\u001b[0;34m,\u001b[0m\u001b[0mBIO_train_0_target\u001b[0m\u001b[0;34m)\u001b[0m\u001b[0;34m\u001b[0m\u001b[0;34m\u001b[0m\u001b[0m\n\u001b[1;32m      3\u001b[0m \u001b[0mprint\u001b[0m\u001b[0;34m(\u001b[0m\u001b[0;34m\"training score\"\u001b[0m \u001b[0;34m,\u001b[0m \u001b[0mmodel\u001b[0m\u001b[0;34m.\u001b[0m\u001b[0mscore\u001b[0m\u001b[0;34m(\u001b[0m\u001b[0mBIO_train_0_features\u001b[0m\u001b[0;34m,\u001b[0m\u001b[0mBIO_train_0_target\u001b[0m\u001b[0;34m)\u001b[0m\u001b[0;34m)\u001b[0m\u001b[0;34m\u001b[0m\u001b[0;34m\u001b[0m\u001b[0m\n\u001b[1;32m      4\u001b[0m \u001b[0mprint\u001b[0m\u001b[0;34m(\u001b[0m\u001b[0;34m\"testing score\"\u001b[0m \u001b[0;34m,\u001b[0m \u001b[0mmodel\u001b[0m\u001b[0;34m.\u001b[0m\u001b[0mscore\u001b[0m\u001b[0;34m(\u001b[0m\u001b[0mBIO_test_0_features\u001b[0m\u001b[0;34m,\u001b[0m\u001b[0mBIO_test_0_target\u001b[0m\u001b[0;34m)\u001b[0m\u001b[0;34m)\u001b[0m\u001b[0;34m\u001b[0m\u001b[0;34m\u001b[0m\u001b[0m\n",
      "\u001b[0;31mNameError\u001b[0m: name 'make_pipeline' is not defined"
     ]
    }
   ],
   "source": [
    "log_l2 = make_pipeline(LogisticRegression(max_iter=1000, penalty='l2', tol=0.001, solver='newton-cg'))\n",
    "model = log_l2.fit(BIO_train_0_features,BIO_train_0_target)\n",
    "print(\"training score\" , model.score(BIO_train_0_features,BIO_train_0_target))\n",
    "print(\"testing score\" , model.score(BIO_test_0_features,BIO_test_0_target))"
   ]
  },
  {
   "cell_type": "code",
   "execution_count": 62,
   "id": "5f7509de",
   "metadata": {
    "scrolled": true
   },
   "outputs": [
    {
     "name": "stdout",
     "output_type": "stream",
     "text": [
      "training score 0.45723684210526316\n",
      "testing score 0.38333333333333336\n"
     ]
    }
   ],
   "source": [
    "# RobustScaler removes the median and scales the data according to the quantile range (defaults to IQR: Interquartile Range). The IQR is the range between the 1st quartile (25th quantile) and the 3rd quartile (75th quantile).\n",
    "log_l2 = make_pipeline(RobustScaler(), LogisticRegression(max_iter=1000, penalty='l2', tol=0.001, solver='newton-cg'))\n",
    "model = log_l2.fit(BIO_train_0_features,BIO_train_0_target)\n",
    "print(\"training score\" , model.score(BIO_train_0_features,BIO_train_0_target))\n",
    "print(\"testing score\" , model.score(BIO_test_0_features,BIO_test_0_target))\n"
   ]
  },
  {
   "cell_type": "code",
   "execution_count": 27,
   "id": "331e0df8",
   "metadata": {
    "scrolled": false
   },
   "outputs": [
    {
     "name": "stdout",
     "output_type": "stream",
     "text": [
      "training score 0.4440789473684211\n",
      "testing score 0.32786885245901637\n"
     ]
    }
   ],
   "source": [
    "model =log_l2.fit(BIO_train_1_features,BIO_train_1_target)\n",
    "print(\"training score\" , model.score(BIO_train_1_features,BIO_train_1_target))\n",
    "print(\"testing score\" , model.score(BIO_test_1_features,BIO_test_1_target))"
   ]
  },
  {
   "cell_type": "code",
   "execution_count": 28,
   "id": "39330cdd",
   "metadata": {
    "scrolled": false
   },
   "outputs": [
    {
     "name": "stdout",
     "output_type": "stream",
     "text": [
      "training score 0.45874587458745875\n",
      "testing score 0.34782608695652173\n"
     ]
    }
   ],
   "source": [
    "model = log_l2.fit(BIO_train_2_features,BIO_train_2_target)\n",
    "print(\"training score\" , model.score(BIO_train_2_features,BIO_train_2_target))\n",
    "print(\"testing score\" , model.score(BIO_test_2_features,BIO_test_2_target))"
   ]
  },
  {
   "cell_type": "code",
   "execution_count": 29,
   "id": "84ecfa53",
   "metadata": {
    "scrolled": false
   },
   "outputs": [
    {
     "name": "stdout",
     "output_type": "stream",
     "text": [
      "training score 0.45787545787545786\n",
      "testing score 0.41262135922330095\n"
     ]
    }
   ],
   "source": [
    "model =log_l2.fit(BIO_train_3_features,BIO_train_3_target)\n",
    "print(\"training score\" , model.score(BIO_train_3_features,BIO_train_3_target))\n",
    "print(\"testing score\" , model.score(BIO_test_3_features,BIO_test_3_target))"
   ]
  },
  {
   "cell_type": "code",
   "execution_count": 30,
   "id": "c7e4eda6",
   "metadata": {
    "scrolled": false
   },
   "outputs": [
    {
     "name": "stdout",
     "output_type": "stream",
     "text": [
      "training score 0.4150326797385621\n",
      "testing score 0.2982456140350877\n"
     ]
    }
   ],
   "source": [
    "model = log_l2.fit(BIO_train_4_features,BIO_train_4_target)\n",
    "print(\"training score\" , model.score(BIO_train_4_features,BIO_train_4_target))\n",
    "print(\"testing score\" , model.score(BIO_test_4_features,BIO_test_4_target))"
   ]
  },
  {
   "cell_type": "code",
   "execution_count": 31,
   "id": "8c3420f4",
   "metadata": {
    "scrolled": false
   },
   "outputs": [
    {
     "name": "stdout",
     "output_type": "stream",
     "text": [
      "training score 0.27631578947368424\n",
      "testing score 0.34444444444444444\n"
     ]
    }
   ],
   "source": [
    "sgdc_j = SGDClassifier(alpha=0.0001, epsilon=0.01, eta0=0.5, random_state=12345)\n",
    "model = sgdc_j.fit(BIO_train_0_features,BIO_train_0_target)\n",
    "print(\"training score\" , model.score(BIO_train_0_features,BIO_train_0_target))\n",
    "print(\"testing score\" , model.score(BIO_test_0_features,BIO_test_0_target))"
   ]
  },
  {
   "cell_type": "code",
   "execution_count": 32,
   "id": "b74b1717",
   "metadata": {
    "scrolled": false
   },
   "outputs": [
    {
     "name": "stdout",
     "output_type": "stream",
     "text": [
      "training score 0.4407894736842105\n",
      "testing score 0.32786885245901637\n"
     ]
    }
   ],
   "source": [
    "model = sgdc_j.fit(BIO_train_1_features,BIO_train_1_target)\n",
    "print(\"training score\" , model.score(BIO_train_1_features,BIO_train_1_target))\n",
    "print(\"testing score\" , model.score(BIO_test_1_features,BIO_test_1_target))"
   ]
  },
  {
   "cell_type": "code",
   "execution_count": 33,
   "id": "f456ccd0",
   "metadata": {
    "scrolled": false
   },
   "outputs": [
    {
     "name": "stdout",
     "output_type": "stream",
     "text": [
      "training score 0.31683168316831684\n",
      "testing score 0.34782608695652173\n"
     ]
    }
   ],
   "source": [
    "model = sgdc_j.fit(BIO_train_2_features,BIO_train_2_target)\n",
    "print(\"training score\" , model.score(BIO_train_2_features,BIO_train_2_target))\n",
    "print(\"testing score\" , model.score(BIO_test_2_features,BIO_test_2_target))"
   ]
  },
  {
   "cell_type": "code",
   "execution_count": 34,
   "id": "f0ff8e92",
   "metadata": {
    "scrolled": false
   },
   "outputs": [
    {
     "name": "stdout",
     "output_type": "stream",
     "text": [
      "training score 0.39194139194139194\n",
      "testing score 0.39805825242718446\n"
     ]
    }
   ],
   "source": [
    "model = sgdc_j.fit(BIO_train_3_features,BIO_train_3_target)\n",
    "print(\"training score\" , model.score(BIO_train_3_features,BIO_train_3_target))\n",
    "print(\"testing score\" , model.score(BIO_test_3_features,BIO_test_3_target))"
   ]
  },
  {
   "cell_type": "code",
   "execution_count": 35,
   "id": "698659f6",
   "metadata": {
    "scrolled": false
   },
   "outputs": [
    {
     "name": "stdout",
     "output_type": "stream",
     "text": [
      "training score 0.37254901960784315\n",
      "testing score 0.47368421052631576\n"
     ]
    }
   ],
   "source": [
    "model = sgdc_j.fit(BIO_train_4_features,BIO_train_4_target)\n",
    "print(\"training score\" , model.score(BIO_train_4_features,BIO_train_4_target))\n",
    "print(\"testing score\" , model.score(BIO_test_4_features,BIO_test_4_target))\n"
   ]
  },
  {
   "cell_type": "markdown",
   "id": "ddeef3d4",
   "metadata": {},
   "source": [
    "## Support Vector Machine (SVM)"
   ]
  },
  {
   "cell_type": "code",
   "execution_count": 36,
   "id": "76a88d23",
   "metadata": {
    "scrolled": false
   },
   "outputs": [
    {
     "name": "stdout",
     "output_type": "stream",
     "text": [
      "training score 0.45723684210526316\n",
      "testing score 0.38333333333333336\n"
     ]
    }
   ],
   "source": [
    "svm = make_pipeline(RobustScaler(), SVC(gamma='auto'))\n",
    "model = svm.fit(BIO_train_0_features,BIO_train_0_target)\n",
    "print(\"training score\" , model.score(BIO_train_0_features,BIO_train_0_target))\n",
    "print(\"testing score\" , model.score(BIO_test_0_features,BIO_test_0_target))"
   ]
  },
  {
   "cell_type": "code",
   "execution_count": 37,
   "id": "4cef1b1e",
   "metadata": {
    "scrolled": false
   },
   "outputs": [
    {
     "name": "stdout",
     "output_type": "stream",
     "text": [
      "training score 0.4407894736842105\n",
      "testing score 0.32786885245901637\n"
     ]
    }
   ],
   "source": [
    "model = svm.fit(BIO_train_1_features,BIO_train_1_target)\n",
    "print(\"training score\" , model.score(BIO_train_1_features,BIO_train_1_target))\n",
    "print(\"testing score\" , model.score(BIO_test_1_features,BIO_test_1_target))"
   ]
  },
  {
   "cell_type": "code",
   "execution_count": 38,
   "id": "c5769ad7",
   "metadata": {
    "scrolled": false
   },
   "outputs": [
    {
     "name": "stdout",
     "output_type": "stream",
     "text": [
      "training score 0.44554455445544555\n",
      "testing score 0.34782608695652173\n"
     ]
    }
   ],
   "source": [
    "model = svm.fit(BIO_train_2_features,BIO_train_2_target)\n",
    "print(\"training score\" , model.score(BIO_train_2_features,BIO_train_2_target))\n",
    "print(\"testing score\" , model.score(BIO_test_2_features,BIO_test_2_target))"
   ]
  },
  {
   "cell_type": "code",
   "execution_count": 39,
   "id": "2ec1c27b",
   "metadata": {
    "scrolled": false
   },
   "outputs": [
    {
     "name": "stdout",
     "output_type": "stream",
     "text": [
      "training score 0.4542124542124542\n",
      "testing score 0.27184466019417475\n"
     ]
    }
   ],
   "source": [
    "model = svm.fit(BIO_train_3_features,BIO_train_3_target)\n",
    "print(\"training score\" , model.score(BIO_train_3_features,BIO_train_3_target))\n",
    "print(\"testing score\" , model.score(BIO_test_3_features,BIO_test_3_target))"
   ]
  },
  {
   "cell_type": "code",
   "execution_count": 40,
   "id": "22ddadad",
   "metadata": {
    "scrolled": false
   },
   "outputs": [
    {
     "name": "stdout",
     "output_type": "stream",
     "text": [
      "training score 0.4150326797385621\n",
      "testing score 0.2982456140350877\n"
     ]
    }
   ],
   "source": [
    "model = svm.fit(BIO_train_4_features,BIO_train_4_target)\n",
    "print(\"training score\" , model.score(BIO_train_4_features,BIO_train_4_target))\n",
    "print(\"testing score\" , model.score(BIO_test_4_features,BIO_test_4_target))\n"
   ]
  },
  {
   "cell_type": "markdown",
   "id": "01ec371b",
   "metadata": {},
   "source": [
    "# ZTS"
   ]
  },
  {
   "cell_type": "code",
   "execution_count": 42,
   "id": "b12cbb21",
   "metadata": {
    "scrolled": false
   },
   "outputs": [
    {
     "name": "stdout",
     "output_type": "stream",
     "text": [
      "Train: 2020-03-02 to 2020-12-31\n",
      "Shape (305, 28)\n",
      "Test: 2021-01-01 to 2021-06-30\n",
      "Shape (181, 28)\n"
     ]
    }
   ],
   "source": [
    "## Random Forest\n",
    "ZTS_train_0 = pd.read_csv(\"/Users/siwenchen/Desktop/phase2/window_data/zts_train_group0_2020-03-02_2020-12-31.csv\",index_col=[0])\n",
    "print('Train:', ZTS_train_0['Report Date'].min(), 'to',ZTS_train_0['Report Date'].max())\n",
    "print('Shape', ZTS_train_0.shape)\n",
    "ZTS_test_0 = pd.read_csv(\"/Users/siwenchen/Desktop/phase2/window_data/zts_test_group0_2021-01-01_2021-06-30.csv\",index_col=[0])\n",
    "print('Test:',ZTS_test_0['Report Date'].min(), 'to',ZTS_test_0['Report Date'].max())\n",
    "print('Shape', ZTS_test_0.shape)\n"
   ]
  },
  {
   "cell_type": "code",
   "execution_count": 43,
   "id": "2ea7f38e",
   "metadata": {
    "scrolled": false
   },
   "outputs": [
    {
     "name": "stdout",
     "output_type": "stream",
     "text": [
      "training score 0.3704918032786885\n",
      "testing score 0.36464088397790057\n"
     ]
    }
   ],
   "source": [
    "ZTS_train_0_features = ZTS_train_0.iloc[:,3:11]\n",
    "ZTS_train_0_target = ZTS_train_0[\"Y_boolean\"]\n",
    "ZTS_test_0_features = ZTS_test_0.iloc[:,3:11]\n",
    "ZTS_test_0_target =ZTS_test_0[\"Y_boolean\"]\n",
    "\n",
    "model = rf.fit(ZTS_train_0_features,ZTS_train_0_target)\n",
    "print(\"training score\" , model.score(ZTS_train_0_features,ZTS_train_0_target))\n",
    "print(\"testing score\" , model.score(ZTS_test_0_features,ZTS_test_0_target))"
   ]
  },
  {
   "cell_type": "code",
   "execution_count": 44,
   "id": "f0ad5f9a",
   "metadata": {
    "scrolled": false
   },
   "outputs": [
    {
     "name": "stdout",
     "output_type": "stream",
     "text": [
      "Train: 2020-06-01 to 2021-03-31\n",
      "Shape (304, 28)\n",
      "Test: 2021-04-01 to 2021-09-30\n",
      "Shape (183, 28)\n"
     ]
    }
   ],
   "source": [
    "ZTS_train_1 = pd.read_csv(\"/Users/siwenchen/Desktop/phase2/window_data/zts_train_group1_2020-06-01_2021-03-31.csv\",index_col=[0])\n",
    "print('Train:', ZTS_train_1['Report Date'].min(), 'to',ZTS_train_1['Report Date'].max())\n",
    "print('Shape', ZTS_train_1.shape)\n",
    "ZTS_test_1 = pd.read_csv(\"/Users/siwenchen/Desktop/phase2/window_data/zts_test_group1_2021-04-01_2021-09-30.csv\",index_col=[0])\n",
    "print('Test:',ZTS_test_1['Report Date'].min(), 'to',ZTS_test_1['Report Date'].max())\n",
    "print('Shape', ZTS_test_1.shape)"
   ]
  },
  {
   "cell_type": "code",
   "execution_count": 45,
   "id": "7e788945",
   "metadata": {
    "scrolled": false
   },
   "outputs": [
    {
     "name": "stdout",
     "output_type": "stream",
     "text": [
      "training score 0.39144736842105265\n",
      "testing score 0.366120218579235\n"
     ]
    }
   ],
   "source": [
    "ZTS_train_1_features = ZTS_train_1.iloc[:,3:12]\n",
    "ZTS_train_1_target = ZTS_train_1[\"Y_boolean\"]\n",
    "ZTS_test_1_features = ZTS_test_1.iloc[:,3:12]\n",
    "ZTS_test_1_target =ZTS_test_1[\"Y_boolean\"]\n",
    "\n",
    "model = rf.fit(ZTS_train_1_features,ZTS_train_1_target)\n",
    "print(\"training score\" , model.score(ZTS_train_1_features,ZTS_train_1_target))\n",
    "print(\"testing score\" , model.score(ZTS_test_1_features,ZTS_test_1_target))"
   ]
  },
  {
   "cell_type": "code",
   "execution_count": 51,
   "id": "0339e322",
   "metadata": {
    "scrolled": false
   },
   "outputs": [
    {
     "name": "stdout",
     "output_type": "stream",
     "text": [
      "Train: 2020-09-01 to 2021-06-30\n",
      "Shape (303, 28)\n",
      "Test: 2021-07-01 to 2021-12-31\n",
      "Shape (184, 28)\n"
     ]
    }
   ],
   "source": [
    "ZTS_train_2 = pd.read_csv(\"/Users/siwenchen/Desktop/phase2/window_data/zts_train_group2_2020-09-01_2021-06-30.csv\",index_col=[0])\n",
    "print('Train:', ZTS_train_2['Report Date'].min(), 'to',ZTS_train_2['Report Date'].max())\n",
    "print('Shape', ZTS_train_2.shape)\n",
    "ZTS_test_2 = pd.read_csv(\"/Users/siwenchen/Desktop/phase2/window_data/zts_test_group2_2021-07-01_2021-12-31.csv\",index_col=[0])\n",
    "print('Test:',ZTS_test_2['Report Date'].min(), 'to',ZTS_test_2['Report Date'].max())\n",
    "print('Shape', ZTS_test_2.shape)"
   ]
  },
  {
   "cell_type": "code",
   "execution_count": 52,
   "id": "0791b80d",
   "metadata": {
    "scrolled": false
   },
   "outputs": [
    {
     "name": "stdout",
     "output_type": "stream",
     "text": [
      "training score 0.38283828382838286\n",
      "testing score 0.31521739130434784\n"
     ]
    }
   ],
   "source": [
    "ZTS_train_2_features = ZTS_train_2.iloc[:,3:11]\n",
    "ZTS_train_2_target = ZTS_train_2[\"Y_boolean\"]\n",
    "ZTS_test_2_features = ZTS_test_2.iloc[:,3:11]\n",
    "ZTS_test_2_target =ZTS_test_2[\"Y_boolean\"]\n",
    "\n",
    "model = rf.fit(ZTS_train_2_features,ZTS_train_2_target)\n",
    "print(\"training score\" , model.score(ZTS_train_2_features,ZTS_train_2_target))\n",
    "print(\"testing score\" , model.score(ZTS_test_2_features,ZTS_test_2_target))"
   ]
  },
  {
   "cell_type": "code",
   "execution_count": 53,
   "id": "30c1c203",
   "metadata": {
    "scrolled": false
   },
   "outputs": [
    {
     "name": "stdout",
     "output_type": "stream",
     "text": [
      "Train: 2021-01-01 to 2021-09-30\n",
      "Shape (273, 28)\n",
      "Test: 2021-10-01 to 2022-04-24\n",
      "Shape (206, 28)\n"
     ]
    }
   ],
   "source": [
    "ZTS_train_3 = pd.read_csv(\"/Users/siwenchen/Desktop/phase2/window_data/zts_train_group3_2021-01-01_2021-09-30.csv\",index_col=[0])\n",
    "print('Train:', ZTS_train_3['Report Date'].min(), 'to',ZTS_train_3['Report Date'].max())\n",
    "print('Shape', ZTS_train_3.shape)\n",
    "ZTS_test_3 = pd.read_csv(\"/Users/siwenchen/Desktop/phase2/window_data/zts_test_group3_2021-10-01_2022-04-24.csv\",index_col=[0])\n",
    "print('Test:',ZTS_test_3['Report Date'].min(), 'to',ZTS_test_3['Report Date'].max())\n",
    "print('Shape', ZTS_test_3.shape)"
   ]
  },
  {
   "cell_type": "code",
   "execution_count": 54,
   "id": "f7126544",
   "metadata": {
    "scrolled": false
   },
   "outputs": [
    {
     "name": "stdout",
     "output_type": "stream",
     "text": [
      "training score 0.37362637362637363\n",
      "testing score 0.3932038834951456\n"
     ]
    }
   ],
   "source": [
    "ZTS_train_3_features = ZTS_train_3.iloc[:,3:16]\n",
    "ZTS_train_3_target = ZTS_train_3[\"Y_boolean\"]\n",
    "ZTS_test_3_features = ZTS_test_3.iloc[:,3:16]\n",
    "ZTS_test_3_target =ZTS_test_3[\"Y_boolean\"]\n",
    "\n",
    "model = rf.fit(ZTS_train_3_features,ZTS_train_3_target)\n",
    "print(\"training score\" , model.score(ZTS_train_3_features,ZTS_train_3_target))\n",
    "print(\"testing score\" , model.score(ZTS_test_3_features,ZTS_test_3_target))"
   ]
  },
  {
   "cell_type": "code",
   "execution_count": 55,
   "id": "b51b603b",
   "metadata": {
    "scrolled": false
   },
   "outputs": [
    {
     "name": "stdout",
     "output_type": "stream",
     "text": [
      "Train: 2022-01-01 to 2022-04-24\n",
      "Shape (114, 28)\n",
      "Test: 2021-03-01 to 2021-12-31\n",
      "Shape (306, 28)\n"
     ]
    }
   ],
   "source": [
    "ZTS_train_4 = pd.read_csv(\"/Users/siwenchen/Desktop/phase2/window_data/zts_test_group4_2022-01-01_2022-04-24.csv\",index_col=[0])\n",
    "print('Train:', ZTS_train_4['Report Date'].min(), 'to',ZTS_train_4['Report Date'].max())\n",
    "print('Shape', ZTS_train_4.shape)\n",
    "ZTS_test_4 = pd.read_csv(\"/Users/siwenchen/Desktop/phase2/window_data/zts_train_group4_2021-03-01_2021-12-31.csv\",index_col=[0])\n",
    "print('Test:',ZTS_test_4['Report Date'].min(), 'to',ZTS_test_4['Report Date'].max())\n",
    "print('Shape', ZTS_test_4.shape)"
   ]
  },
  {
   "cell_type": "code",
   "execution_count": 56,
   "id": "f8700f66",
   "metadata": {
    "scrolled": false
   },
   "outputs": [
    {
     "name": "stdout",
     "output_type": "stream",
     "text": [
      "training score 0.42105263157894735\n",
      "testing score 0.2777777777777778\n"
     ]
    }
   ],
   "source": [
    "ZTS_train_4_features = ZTS_train_4.iloc[:,3:16]\n",
    "ZTS_train_4_target = ZTS_train_4[\"Y_boolean\"]\n",
    "ZTS_test_4_features = ZTS_test_4.iloc[:,3:16]\n",
    "ZTS_test_4_target =ZTS_test_4[\"Y_boolean\"]\n",
    "\n",
    "model = rf.fit(ZTS_train_4_features,ZTS_train_4_target)\n",
    "print(\"training score\" , model.score(ZTS_train_4_features,ZTS_train_4_target))\n",
    "print(\"testing score\" , model.score(ZTS_test_4_features,ZTS_test_4_target))"
   ]
  },
  {
   "cell_type": "code",
   "execution_count": 57,
   "id": "49e0d9ab",
   "metadata": {
    "scrolled": false
   },
   "outputs": [
    {
     "name": "stdout",
     "output_type": "stream",
     "text": [
      "training score 0.30491803278688523\n",
      "testing score 0.36464088397790057\n"
     ]
    }
   ],
   "source": [
    "## Logistic Regression \n",
    "sgdc_j = SGDClassifier(alpha=0.0001, epsilon=0.01, eta0=0.5, random_state=12345)\n",
    "model = sgdc_j.fit(ZTS_train_0_features,ZTS_train_0_target)\n",
    "print(\"training score\" , model.score(ZTS_train_0_features,ZTS_train_0_target))\n",
    "print(\"testing score\" , model.score(ZTS_test_0_features,ZTS_test_0_target))"
   ]
  },
  {
   "cell_type": "code",
   "execution_count": 58,
   "id": "da88227a",
   "metadata": {
    "scrolled": false
   },
   "outputs": [
    {
     "name": "stdout",
     "output_type": "stream",
     "text": [
      "training score 0.3618421052631579\n",
      "testing score 0.366120218579235\n"
     ]
    }
   ],
   "source": [
    "model = sgdc_j.fit(ZTS_train_1_features,ZTS_train_1_target)\n",
    "print(\"training score\" , model.score(ZTS_train_1_features,ZTS_train_1_target))\n",
    "print(\"testing score\" , model.score(ZTS_test_1_features,ZTS_test_1_target))"
   ]
  },
  {
   "cell_type": "code",
   "execution_count": 59,
   "id": "642e1be5",
   "metadata": {
    "scrolled": false
   },
   "outputs": [
    {
     "name": "stdout",
     "output_type": "stream",
     "text": [
      "training score 0.297029702970297\n",
      "testing score 0.31521739130434784\n"
     ]
    }
   ],
   "source": [
    "model = sgdc_j.fit(ZTS_train_2_features,ZTS_train_2_target)\n",
    "print(\"training score\" , model.score(ZTS_train_2_features,ZTS_train_2_target))\n",
    "print(\"testing score\" , model.score(ZTS_test_2_features,ZTS_test_2_target))"
   ]
  },
  {
   "cell_type": "code",
   "execution_count": 60,
   "id": "ba840142",
   "metadata": {
    "scrolled": false
   },
   "outputs": [
    {
     "name": "stdout",
     "output_type": "stream",
     "text": [
      "training score 0.2783882783882784\n",
      "testing score 0.3932038834951456\n"
     ]
    }
   ],
   "source": [
    "model = sgdc_j.fit(ZTS_train_3_features,ZTS_train_3_target)\n",
    "print(\"training score\" , model.score(ZTS_train_3_features,ZTS_train_3_target))\n",
    "print(\"testing score\" , model.score(ZTS_test_3_features,ZTS_test_3_target))"
   ]
  },
  {
   "cell_type": "code",
   "execution_count": 61,
   "id": "70fa2f51",
   "metadata": {
    "scrolled": false
   },
   "outputs": [
    {
     "name": "stdout",
     "output_type": "stream",
     "text": [
      "training score 0.3333333333333333\n",
      "testing score 0.31699346405228757\n"
     ]
    }
   ],
   "source": [
    "model = sgdc_j.fit(ZTS_train_4_features,ZTS_train_4_target)\n",
    "print(\"training score\" , model.score(ZTS_train_4_features,ZTS_train_4_target))\n",
    "print(\"testing score\" , model.score(ZTS_test_4_features,ZTS_test_4_target))"
   ]
  },
  {
   "cell_type": "markdown",
   "id": "b82f464f",
   "metadata": {},
   "source": [
    "## Support Vector Machine (SVM)"
   ]
  },
  {
   "cell_type": "code",
   "execution_count": 62,
   "id": "5a386ae5",
   "metadata": {
    "scrolled": false
   },
   "outputs": [
    {
     "data": {
      "text/html": [
       "<div>\n",
       "<style scoped>\n",
       "    .dataframe tbody tr th:only-of-type {\n",
       "        vertical-align: middle;\n",
       "    }\n",
       "\n",
       "    .dataframe tbody tr th {\n",
       "        vertical-align: top;\n",
       "    }\n",
       "\n",
       "    .dataframe thead th {\n",
       "        text-align: right;\n",
       "    }\n",
       "</style>\n",
       "<table border=\"1\" class=\"dataframe\">\n",
       "  <thead>\n",
       "    <tr style=\"text-align: right;\">\n",
       "      <th></th>\n",
       "      <th>(Dividends + Share Buyback) / FCF</th>\n",
       "      <th>Asset Turnover</th>\n",
       "      <th>CapEx / (Depr + Amor)</th>\n",
       "      <th>Current Ratio</th>\n",
       "      <th>Debt Ratio</th>\n",
       "      <th>Dividends / FCF</th>\n",
       "      <th>Dummy_Dividends</th>\n",
       "      <th>Gross Profit Margin</th>\n",
       "    </tr>\n",
       "  </thead>\n",
       "  <tbody>\n",
       "    <tr>\n",
       "      <th>0</th>\n",
       "      <td>0.485119</td>\n",
       "      <td>1.000000</td>\n",
       "      <td>1.000000</td>\n",
       "      <td>0.000000</td>\n",
       "      <td>0.000000</td>\n",
       "      <td>0.000000</td>\n",
       "      <td>0.0</td>\n",
       "      <td>0.000000</td>\n",
       "    </tr>\n",
       "    <tr>\n",
       "      <th>1</th>\n",
       "      <td>0.485119</td>\n",
       "      <td>1.000000</td>\n",
       "      <td>1.000000</td>\n",
       "      <td>0.000000</td>\n",
       "      <td>0.000000</td>\n",
       "      <td>0.000000</td>\n",
       "      <td>0.0</td>\n",
       "      <td>0.000000</td>\n",
       "    </tr>\n",
       "    <tr>\n",
       "      <th>2</th>\n",
       "      <td>0.485119</td>\n",
       "      <td>1.000000</td>\n",
       "      <td>1.000000</td>\n",
       "      <td>0.000000</td>\n",
       "      <td>0.000000</td>\n",
       "      <td>0.000000</td>\n",
       "      <td>0.0</td>\n",
       "      <td>0.000000</td>\n",
       "    </tr>\n",
       "    <tr>\n",
       "      <th>3</th>\n",
       "      <td>0.485119</td>\n",
       "      <td>1.000000</td>\n",
       "      <td>1.000000</td>\n",
       "      <td>0.000000</td>\n",
       "      <td>0.000000</td>\n",
       "      <td>0.000000</td>\n",
       "      <td>0.0</td>\n",
       "      <td>0.000000</td>\n",
       "    </tr>\n",
       "    <tr>\n",
       "      <th>4</th>\n",
       "      <td>0.485119</td>\n",
       "      <td>1.000000</td>\n",
       "      <td>1.000000</td>\n",
       "      <td>0.000000</td>\n",
       "      <td>0.000000</td>\n",
       "      <td>0.000000</td>\n",
       "      <td>0.0</td>\n",
       "      <td>0.000000</td>\n",
       "    </tr>\n",
       "    <tr>\n",
       "      <th>...</th>\n",
       "      <td>...</td>\n",
       "      <td>...</td>\n",
       "      <td>...</td>\n",
       "      <td>...</td>\n",
       "      <td>...</td>\n",
       "      <td>...</td>\n",
       "      <td>...</td>\n",
       "      <td>...</td>\n",
       "    </tr>\n",
       "    <tr>\n",
       "      <th>300</th>\n",
       "      <td>0.068673</td>\n",
       "      <td>0.000000</td>\n",
       "      <td>0.132048</td>\n",
       "      <td>1.000000</td>\n",
       "      <td>1.000000</td>\n",
       "      <td>0.854964</td>\n",
       "      <td>0.0</td>\n",
       "      <td>1.000000</td>\n",
       "    </tr>\n",
       "    <tr>\n",
       "      <th>301</th>\n",
       "      <td>0.068673</td>\n",
       "      <td>0.000000</td>\n",
       "      <td>0.132048</td>\n",
       "      <td>1.000000</td>\n",
       "      <td>1.000000</td>\n",
       "      <td>0.854964</td>\n",
       "      <td>0.0</td>\n",
       "      <td>1.000000</td>\n",
       "    </tr>\n",
       "    <tr>\n",
       "      <th>302</th>\n",
       "      <td>0.068673</td>\n",
       "      <td>0.000000</td>\n",
       "      <td>0.132048</td>\n",
       "      <td>1.000000</td>\n",
       "      <td>1.000000</td>\n",
       "      <td>0.854964</td>\n",
       "      <td>0.0</td>\n",
       "      <td>1.000000</td>\n",
       "    </tr>\n",
       "    <tr>\n",
       "      <th>303</th>\n",
       "      <td>0.000000</td>\n",
       "      <td>0.439904</td>\n",
       "      <td>0.474826</td>\n",
       "      <td>0.221527</td>\n",
       "      <td>0.075888</td>\n",
       "      <td>0.263190</td>\n",
       "      <td>0.0</td>\n",
       "      <td>0.431292</td>\n",
       "    </tr>\n",
       "    <tr>\n",
       "      <th>304</th>\n",
       "      <td>0.000000</td>\n",
       "      <td>0.439904</td>\n",
       "      <td>0.474826</td>\n",
       "      <td>0.221527</td>\n",
       "      <td>0.075888</td>\n",
       "      <td>0.263190</td>\n",
       "      <td>0.0</td>\n",
       "      <td>0.431292</td>\n",
       "    </tr>\n",
       "  </tbody>\n",
       "</table>\n",
       "<p>305 rows × 8 columns</p>\n",
       "</div>"
      ],
      "text/plain": [
       "     (Dividends + Share Buyback) / FCF  Asset Turnover  CapEx / (Depr + Amor)  \\\n",
       "0                             0.485119        1.000000               1.000000   \n",
       "1                             0.485119        1.000000               1.000000   \n",
       "2                             0.485119        1.000000               1.000000   \n",
       "3                             0.485119        1.000000               1.000000   \n",
       "4                             0.485119        1.000000               1.000000   \n",
       "..                                 ...             ...                    ...   \n",
       "300                           0.068673        0.000000               0.132048   \n",
       "301                           0.068673        0.000000               0.132048   \n",
       "302                           0.068673        0.000000               0.132048   \n",
       "303                           0.000000        0.439904               0.474826   \n",
       "304                           0.000000        0.439904               0.474826   \n",
       "\n",
       "     Current Ratio  Debt Ratio  Dividends / FCF  Dummy_Dividends  \\\n",
       "0         0.000000    0.000000         0.000000              0.0   \n",
       "1         0.000000    0.000000         0.000000              0.0   \n",
       "2         0.000000    0.000000         0.000000              0.0   \n",
       "3         0.000000    0.000000         0.000000              0.0   \n",
       "4         0.000000    0.000000         0.000000              0.0   \n",
       "..             ...         ...              ...              ...   \n",
       "300       1.000000    1.000000         0.854964              0.0   \n",
       "301       1.000000    1.000000         0.854964              0.0   \n",
       "302       1.000000    1.000000         0.854964              0.0   \n",
       "303       0.221527    0.075888         0.263190              0.0   \n",
       "304       0.221527    0.075888         0.263190              0.0   \n",
       "\n",
       "     Gross Profit Margin  \n",
       "0               0.000000  \n",
       "1               0.000000  \n",
       "2               0.000000  \n",
       "3               0.000000  \n",
       "4               0.000000  \n",
       "..                   ...  \n",
       "300             1.000000  \n",
       "301             1.000000  \n",
       "302             1.000000  \n",
       "303             0.431292  \n",
       "304             0.431292  \n",
       "\n",
       "[305 rows x 8 columns]"
      ]
     },
     "execution_count": 62,
     "metadata": {},
     "output_type": "execute_result"
    }
   ],
   "source": [
    "ZTS_train_0_features"
   ]
  },
  {
   "cell_type": "code",
   "execution_count": 63,
   "id": "44a92efa",
   "metadata": {
    "scrolled": false
   },
   "outputs": [
    {
     "name": "stdout",
     "output_type": "stream",
     "text": [
      "training score 0.39344262295081966\n",
      "testing score 0.36464088397790057\n"
     ]
    }
   ],
   "source": [
    "svm = make_pipeline(RobustScaler(), SVC(gamma='auto'))\n",
    "model = svm.fit(ZTS_train_0_features,ZTS_train_0_target)\n",
    "print(\"training score\" , model.score(ZTS_train_0_features,ZTS_train_0_target))\n",
    "print(\"testing score\" , model.score(ZTS_test_0_features,ZTS_test_0_target))"
   ]
  },
  {
   "cell_type": "code",
   "execution_count": 64,
   "id": "9c6269b4",
   "metadata": {
    "scrolled": false
   },
   "outputs": [
    {
     "name": "stdout",
     "output_type": "stream",
     "text": [
      "training score 0.39144736842105265\n",
      "testing score 0.36065573770491804\n"
     ]
    }
   ],
   "source": [
    "model = svm.fit(ZTS_train_1_features,ZTS_train_1_target)\n",
    "print(\"training score\" , model.score(ZTS_train_1_features,ZTS_train_1_target))\n",
    "print(\"testing score\" , model.score(ZTS_test_1_features,ZTS_test_1_target))"
   ]
  },
  {
   "cell_type": "code",
   "execution_count": 65,
   "id": "b27c1347",
   "metadata": {
    "scrolled": false
   },
   "outputs": [
    {
     "name": "stdout",
     "output_type": "stream",
     "text": [
      "training score 0.38943894389438943\n",
      "testing score 0.31521739130434784\n"
     ]
    }
   ],
   "source": [
    "model = svm.fit(ZTS_train_2_features,ZTS_train_2_target)\n",
    "print(\"training score\" , model.score(ZTS_train_2_features,ZTS_train_2_target))\n",
    "print(\"testing score\" , model.score(ZTS_test_2_features,ZTS_test_2_target))"
   ]
  },
  {
   "cell_type": "code",
   "execution_count": 66,
   "id": "83cc7f72",
   "metadata": {
    "scrolled": false
   },
   "outputs": [
    {
     "name": "stdout",
     "output_type": "stream",
     "text": [
      "training score 0.37362637362637363\n",
      "testing score 0.2766990291262136\n"
     ]
    }
   ],
   "source": [
    "model = svm.fit(ZTS_train_3_features,ZTS_train_3_target)\n",
    "print(\"training score\" , model.score(ZTS_train_3_features,ZTS_train_3_target))\n",
    "print(\"testing score\" , model.score(ZTS_test_3_features,ZTS_test_3_target))"
   ]
  },
  {
   "cell_type": "code",
   "execution_count": 67,
   "id": "c79cdfea",
   "metadata": {
    "scrolled": false
   },
   "outputs": [
    {
     "name": "stdout",
     "output_type": "stream",
     "text": [
      "training score 0.47368421052631576\n",
      "testing score 0.28431372549019607\n"
     ]
    }
   ],
   "source": [
    "model = svm.fit(ZTS_train_4_features,ZTS_train_4_target)\n",
    "print(\"training score\" , model.score(ZTS_train_4_features,ZTS_train_4_target))\n",
    "print(\"testing score\" , model.score(ZTS_test_4_features,ZTS_test_4_target))"
   ]
  },
  {
   "cell_type": "code",
   "execution_count": null,
   "id": "1ed1205f",
   "metadata": {},
   "outputs": [],
   "source": []
  },
  {
   "cell_type": "code",
   "execution_count": null,
   "id": "0db891fb",
   "metadata": {},
   "outputs": [],
   "source": []
  }
 ],
 "metadata": {
  "kernelspec": {
   "display_name": "Python 3 (ipykernel)",
   "language": "python",
   "name": "python3"
  },
  "language_info": {
   "codemirror_mode": {
    "name": "ipython",
    "version": 3
   },
   "file_extension": ".py",
   "mimetype": "text/x-python",
   "name": "python",
   "nbconvert_exporter": "python",
   "pygments_lexer": "ipython3",
   "version": "3.9.7"
  }
 },
 "nbformat": 4,
 "nbformat_minor": 5
}
